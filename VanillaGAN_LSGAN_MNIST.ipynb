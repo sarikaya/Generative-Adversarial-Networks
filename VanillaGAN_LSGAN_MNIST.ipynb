{
 "cells": [
  {
   "cell_type": "markdown",
   "metadata": {
    "colab_type": "text",
    "id": "bTmjZ5JrLBE3"
   },
   "source": [
    "# GAN\n",
    "\n",
    "This section consists of vanilla GAN and LSGAN implementation. The general structure for GAN is given below."
   ]
  },
  {
   "cell_type": "code",
   "execution_count": 5,
   "metadata": {
    "colab": {
     "base_uri": "https://localhost:8080/",
     "height": 295
    },
    "colab_type": "code",
    "executionInfo": {
     "elapsed": 4954,
     "status": "ok",
     "timestamp": 1544390506049,
     "user": {
      "displayName": "Nurefşan Sarıkaya",
      "photoUrl": "",
      "userId": "03242574637594305097"
     },
     "user_tz": -180
    },
    "id": "Rr4End4lLBFZ",
    "outputId": "b27b8578-7817-47cd-ce8e-6e1eb0596585"
   },
   "outputs": [
    {
     "name": "stdout",
     "output_type": "stream",
     "text": [
      "Sun Dec  9 21:21:42 2018       \n",
      "+-----------------------------------------------------------------------------+\n",
      "| NVIDIA-SMI 396.44                 Driver Version: 396.44                    |\n",
      "|-------------------------------+----------------------+----------------------+\n",
      "| GPU  Name        Persistence-M| Bus-Id        Disp.A | Volatile Uncorr. ECC |\n",
      "| Fan  Temp  Perf  Pwr:Usage/Cap|         Memory-Usage | GPU-Util  Compute M. |\n",
      "|===============================+======================+======================|\n",
      "|   0  Tesla K80           Off  | 00000000:00:04.0 Off |                    0 |\n",
      "| N/A   44C    P0    72W / 149W |    374MiB / 11441MiB |      0%      Default |\n",
      "+-------------------------------+----------------------+----------------------+\n",
      "                                                                               \n",
      "+-----------------------------------------------------------------------------+\n",
      "| Processes:                                                       GPU Memory |\n",
      "|  GPU       PID   Type   Process name                             Usage      |\n",
      "|=============================================================================|\n",
      "+-----------------------------------------------------------------------------+\n"
     ]
    }
   ],
   "source": [
    "!nvidia-smi\n",
    "# This command should return some information about the GPU status if the runtime is right. \n",
    "# In addition to that, if you encounter memory issues, you can diagnose your model by this command."
   ]
  },
  {
   "cell_type": "code",
   "execution_count": null,
   "metadata": {},
   "outputs": [],
   "source": [
    "!pip3 install torch==0.4.1\n",
    "!pip3 install torchvision==0.2.1\n",
    "!pip3 install Pillow==4.0.0\n",
    "!pip3 install scipy\n",
    "!pip3 install numpy\n",
    "!pip3 install matplotlib"
   ]
  },
  {
   "cell_type": "code",
   "execution_count": 0,
   "metadata": {
    "colab": {},
    "colab_type": "code",
    "id": "YhxOulCNLBHA"
   },
   "outputs": [],
   "source": [
    "import torch\n",
    "from torch import nn, optim\n",
    "from torchvision import transforms, datasets\n",
    "from torch.autograd.variable import Variable\n",
    "import torchvision.utils as vutils\n",
    "import numpy as np\n",
    "import matplotlib.pyplot as plt\n",
    "import os"
   ]
  },
  {
   "cell_type": "markdown",
   "metadata": {
    "colab_type": "text",
    "id": "5--L2DskLBHR"
   },
   "source": [
    "# Download and load the Fashion MNIST data as instructed below"
   ]
  },
  {
   "cell_type": "code",
   "execution_count": 0,
   "metadata": {
    "colab": {},
    "colab_type": "code",
    "id": "QM9IQiQOLBHT"
   },
   "outputs": [],
   "source": [
    "def fashion_mnist_data():\n",
    "    compose = transforms.Compose(\n",
    "        [transforms.ToTensor(),\n",
    "         transforms.Normalize((.5, .5, .5), (.5, .5, .5))\n",
    "        ])\n",
    "    out_dir = '.OUTPUT_PATH'\n",
    "    return datasets.FashionMNIST(root=out_dir, train=True, transform=compose, download=True)"
   ]
  },
  {
   "cell_type": "markdown",
   "metadata": {
    "colab_type": "text",
    "id": "29p5Z4ARLBHg"
   },
   "source": [
    "# You can change the Batchsize Parameter below if you want"
   ]
  },
  {
   "cell_type": "code",
   "execution_count": 0,
   "metadata": {
    "colab": {},
    "colab_type": "code",
    "id": "EQRL8mKtLBHi"
   },
   "outputs": [],
   "source": [
    "# Load data\n",
    "data = fashion_mnist_data()\n",
    "# Create loader with data, so that we can iterate over it\n",
    "data_loader = torch.utils.data.DataLoader(data, batch_size=100, shuffle=True)\n",
    "# Num batches\n",
    "num_batches = len(data_loader)\n",
    "MODEL_PATH = '/PATH/model/gan'\n",
    "if not os.path.exists(MODEL_PATH): os.makedirs(MODEL_PATH)"
   ]
  },
  {
   "cell_type": "markdown",
   "metadata": {
    "colab_type": "text",
    "id": "8voPifQiLBHv"
   },
   "source": [
    "# Discriminator Architecture\n",
    "\n",
    "Please note: Pay attention to whether Sigmoid Unit at the last layer is added in the Architecture OR in the Loss function, because in implementations of some loss functions in Pytorch, sigmoid unit is included by default."
   ]
  },
  {
   "cell_type": "code",
   "execution_count": 0,
   "metadata": {
    "colab": {},
    "colab_type": "code",
    "id": "4cMHBSNHLBH6"
   },
   "outputs": [],
   "source": [
    "class DiscriminatorNet(torch.nn.Module):\n",
    "    def __init__(self):\n",
    "        super(DiscriminatorNet, self).__init__()\n",
    "        n_features = 784\n",
    "        n_out = 1\n",
    "        \n",
    "        self.hidden0 = nn.Sequential( \n",
    "            nn.Linear(n_features, 1024),\n",
    "            nn.LeakyReLU(0.2),\n",
    "            nn.Dropout(0.3)\n",
    "        )\n",
    "        self.hidden1 = nn.Sequential(\n",
    "            nn.Linear(1024, 512),\n",
    "            nn.LeakyReLU(0.2),\n",
    "            nn.Dropout(0.3)\n",
    "        )\n",
    "        self.hidden2 = nn.Sequential(\n",
    "            nn.Linear(512, 256),\n",
    "            nn.LeakyReLU(0.2),\n",
    "            nn.Dropout(0.3)\n",
    "        )\n",
    "        self.out = nn.Sequential(\n",
    "            torch.nn.Linear(256, n_out),\n",
    "            torch.nn.Sigmoid()\n",
    "        )\n",
    "\n",
    "    def forward(self, x):\n",
    "        x = self.hidden0(x)\n",
    "        x = self.hidden1(x)\n",
    "        x = self.hidden2(x)\n",
    "        x = self.out(x)\n",
    "        return x"
   ]
  },
  {
   "cell_type": "markdown",
   "metadata": {
    "colab_type": "text",
    "id": "CGh0fTigLBIU"
   },
   "source": [
    "# Utility function for flattenning and unflattenning of images to vectors and vice versa"
   ]
  },
  {
   "cell_type": "code",
   "execution_count": 0,
   "metadata": {
    "colab": {},
    "colab_type": "code",
    "id": "F2vy27K1LBIe"
   },
   "outputs": [],
   "source": [
    "def images_to_vectors(images):\n",
    "    return images.view(images.size(0), 784)\n",
    "\n",
    "def vectors_to_images(vectors):\n",
    "    return vectors.view(vectors.size(0), 1, 28, 28)"
   ]
  },
  {
   "cell_type": "markdown",
   "metadata": {
    "colab_type": "text",
    "id": "35HD0J42LBIt"
   },
   "source": [
    "# Generator Architecture"
   ]
  },
  {
   "cell_type": "code",
   "execution_count": 0,
   "metadata": {
    "colab": {},
    "colab_type": "code",
    "id": "DtpGddhXLBI2"
   },
   "outputs": [],
   "source": [
    "class GeneratorNet(torch.nn.Module):\n",
    "    def __init__(self):\n",
    "        super(GeneratorNet, self).__init__()\n",
    "        n_features = 100\n",
    "        n_out = 784\n",
    "        \n",
    "        self.hidden0 = nn.Sequential(\n",
    "            nn.Linear(n_features, 256),\n",
    "            nn.LeakyReLU(0.2)\n",
    "        )\n",
    "        self.hidden1 = nn.Sequential(            \n",
    "            nn.Linear(256, 512),\n",
    "            nn.LeakyReLU(0.2)\n",
    "        )\n",
    "        self.hidden2 = nn.Sequential(\n",
    "            nn.Linear(512, 1024),\n",
    "            nn.LeakyReLU(0.2)\n",
    "        )\n",
    "        \n",
    "        self.out = nn.Sequential(\n",
    "            nn.Linear(1024, n_out),\n",
    "            nn.Tanh()\n",
    "        )\n",
    "\n",
    "    def forward(self, x):\n",
    "        x = self.hidden0(x)\n",
    "        x = self.hidden1(x)\n",
    "        x = self.hidden2(x)\n",
    "        x = self.out(x)\n",
    "        return x"
   ]
  },
  {
   "cell_type": "markdown",
   "metadata": {
    "colab_type": "text",
    "id": "VrrVXF-4LBJk"
   },
   "source": [
    "# Generate the input noise distribution to your generator"
   ]
  },
  {
   "cell_type": "code",
   "execution_count": 0,
   "metadata": {
    "colab": {},
    "colab_type": "code",
    "id": "E1e7y-T8LBJn"
   },
   "outputs": [],
   "source": [
    "def noise(size):\n",
    "    \"\"\"\n",
    "    Generate noise\n",
    "    \"\"\"\n",
    "    n = Variable(torch.randn(size, 100))\n",
    "    return n"
   ]
  },
  {
   "cell_type": "markdown",
   "metadata": {
    "colab_type": "text",
    "id": "pyleHe1tLBKI"
   },
   "source": [
    "# VanillaGAN uses Binary Cross Entropy loss, instatiated below. Also Least Squares loss implemented for LS GAN below"
   ]
  },
  {
   "cell_type": "code",
   "execution_count": 0,
   "metadata": {
    "colab": {},
    "colab_type": "code",
    "id": "qd5BZRKyLBKK"
   },
   "outputs": [],
   "source": [
    "VanillaGAN = nn.BCELoss()\n",
    "LSGAN = nn.MSELoss()"
   ]
  },
  {
   "cell_type": "markdown",
   "metadata": {
    "colab_type": "text",
    "id": "Xf_DzmNiLBKV"
   },
   "source": [
    "# Optional lines below, you can either use them or implement yours inline in your training loop"
   ]
  },
  {
   "cell_type": "code",
   "execution_count": 0,
   "metadata": {
    "colab": {},
    "colab_type": "code",
    "id": "W4h2d524LBKa"
   },
   "outputs": [],
   "source": [
    "def ones_target(size):\n",
    "    '''\n",
    "    Tensor containing ones, with shape = size\n",
    "    '''\n",
    "    data = torch.ones(size, 1).to('cuda')\n",
    "    return data\n",
    "\n",
    "def zeros_target(size):\n",
    "    '''\n",
    "    Tensor containing zeros, with shape = size\n",
    "    '''\n",
    "    data = torch.zeros(size, 1).to('cuda')\n",
    "    return data"
   ]
  },
  {
   "cell_type": "code",
   "execution_count": 0,
   "metadata": {
    "colab": {},
    "colab_type": "code",
    "id": "DyBM3cBrLBKo"
   },
   "outputs": [],
   "source": [
    "def train_discriminator(discriminator, optimizer, loss, real_data, fake_data):\n",
    "    N = real_data.size(0)\n",
    "    \n",
    "    optimizer.zero_grad()\n",
    "    \n",
    "    # Train Real Data\n",
    "    prediction_real = discriminator(real_data)\n",
    "    error_real = loss(prediction_real, ones_target(N) )\n",
    "    error_real.backward()\n",
    "\n",
    "    # Train Fake Data\n",
    "    prediction_fake = discriminator(fake_data)\n",
    "    error_fake = loss(prediction_fake, zeros_target(N))\n",
    "    error_fake.backward()\n",
    "    \n",
    "    optimizer.step()\n",
    "    \n",
    "    return error_real + error_fake"
   ]
  },
  {
   "cell_type": "code",
   "execution_count": 0,
   "metadata": {
    "colab": {},
    "colab_type": "code",
    "id": "QarOfy_gLBK0"
   },
   "outputs": [],
   "source": [
    "def train_generator(discriminator, optimizer, loss, fake_data):\n",
    "    N = fake_data.size(0)\n",
    "\n",
    "    optimizer.zero_grad()\n",
    "    \n",
    "    prediction = discriminator(fake_data)\n",
    "    error = loss(prediction, ones_target(N))\n",
    "    error.backward()\n",
    "\n",
    "    optimizer.step()\n",
    "\n",
    "    return error"
   ]
  },
  {
   "cell_type": "code",
   "execution_count": 0,
   "metadata": {
    "colab": {},
    "colab_type": "code",
    "id": "D_Bgol7FLBK7"
   },
   "outputs": [],
   "source": [
    "num_test_samples = 16\n",
    "test_noise = noise(num_test_samples).cuda()"
   ]
  },
  {
   "cell_type": "code",
   "execution_count": 0,
   "metadata": {
    "colab": {},
    "colab_type": "code",
    "id": "_BU8jax3LBLK"
   },
   "outputs": [],
   "source": [
    "def train(loss_type):\n",
    "    if loss_type == 'VanillaGAN':\n",
    "      loss = VanillaGAN\n",
    "    else:\n",
    "      loss = LSGAN\n",
    "    discriminator = DiscriminatorNet().to('cuda')\n",
    "    generator = GeneratorNet().to('cuda')\n",
    "    \n",
    "    d_optimizer = optim.Adam(discriminator.parameters(), lr=0.0002, betas=(0.5, 0.999))\n",
    "    g_optimizer = optim.Adam(generator.parameters(), lr=0.0002, betas=(0.5, 0.999))\n",
    "    \n",
    "    d_error_list = []\n",
    "    g_error_list = []\n",
    "    img_list = []\n",
    "    \n",
    "    num_epochs = 30\n",
    "\n",
    "    for epoch in range(num_epochs):\n",
    "        d_error_total = 0.0\n",
    "        g_error_total = 0.0\n",
    "        for n_batch, (real_batch,_) in enumerate(data_loader):\n",
    "            N = real_batch.size(0)\n",
    "            # -----------------\n",
    "            #  Train Discriminator\n",
    "            # -----------------\n",
    "            real_data = Variable(images_to_vectors(real_batch)).cuda()\n",
    "            fake_data = generator(noise(N).cuda()).detach()\n",
    "            d_error = train_discriminator(discriminator, d_optimizer, loss, real_data, fake_data)\n",
    "            # -----------------\n",
    "            #  Train Generator\n",
    "            # -----------------\n",
    "            fake_data = generator(noise(N).cuda())\n",
    "            g_error = train_generator(discriminator, g_optimizer, loss, fake_data)\n",
    "\n",
    "            if (n_batch + 1) % 100 == 0: \n",
    "                test_data = generator(test_noise)\n",
    "\n",
    "                print(\"epoch: {%d}, batch number: {%d}, d_error: {%.4f}, g_error: {%.4f}\" % \n",
    "                      (epoch + 1, n_batch + 1, d_error.item(), g_error.item()))\n",
    "                \n",
    "            d_error_total = d_error_total + d_error.item()\n",
    "            g_error_total = g_error_total + g_error.item()\n",
    "            \n",
    "        d_error_list.append(d_error_total/len(data_loader))\n",
    "        g_error_list.append(g_error_total/len(data_loader))\n",
    "        # Save your model weights\n",
    "        if (epoch + 1) % 10 == 0:\n",
    "            save_dict = {\n",
    "                'g': generator.state_dict(), \n",
    "                'd': discriminator.state_dict()\n",
    "            }\n",
    "            if loss_type == 'VanillaGAN':\n",
    "                torch.save(save_dict, '{}/VanillaGAN_{}.pth.tar'.format(MODEL_PATH, epoch+1))\n",
    "            else:\n",
    "                torch.save(save_dict, '{}/LSGAN_{}.pth.tar'.format(MODEL_PATH, epoch+1))\n",
    "        \n",
    "        test_images = vectors_to_images(test_data).data\n",
    "        img_list.append(test_images)\n",
    "    return d_error_list, g_error_list, img_list\n",
    "  "
   ]
  },
  {
   "cell_type": "code",
   "execution_count": 14,
   "metadata": {
    "colab": {
     "base_uri": "https://localhost:8080/",
     "height": 6304
    },
    "colab_type": "code",
    "executionInfo": {
     "elapsed": 1181917,
     "status": "ok",
     "timestamp": 1544395218301,
     "user": {
      "displayName": "Nurefşan Sarıkaya",
      "photoUrl": "",
      "userId": "03242574637594305097"
     },
     "user_tz": -180
    },
    "id": "aVVNId2ChF50",
    "outputId": "3098bbde-9f38-4cf0-bb24-621baf255c23"
   },
   "outputs": [
    {
     "name": "stdout",
     "output_type": "stream",
     "text": [
      "VanillaGAN Training\n",
      "epoch: {1}, batch number: {100}, d_error: {0.1122}, g_error: {3.0111}\n",
      "epoch: {1}, batch number: {200}, d_error: {0.2786}, g_error: {4.4474}\n",
      "epoch: {1}, batch number: {300}, d_error: {0.7684}, g_error: {1.9040}\n",
      "epoch: {1}, batch number: {400}, d_error: {0.6157}, g_error: {4.0826}\n",
      "epoch: {1}, batch number: {500}, d_error: {0.6204}, g_error: {2.5163}\n",
      "epoch: {1}, batch number: {600}, d_error: {0.5157}, g_error: {3.2195}\n",
      "epoch: {2}, batch number: {100}, d_error: {0.7830}, g_error: {1.7861}\n",
      "epoch: {2}, batch number: {200}, d_error: {0.5750}, g_error: {2.0827}\n",
      "epoch: {2}, batch number: {300}, d_error: {0.4967}, g_error: {1.9099}\n",
      "epoch: {2}, batch number: {400}, d_error: {0.6458}, g_error: {2.6889}\n",
      "epoch: {2}, batch number: {500}, d_error: {0.7023}, g_error: {2.1254}\n",
      "epoch: {2}, batch number: {600}, d_error: {0.7117}, g_error: {2.0659}\n",
      "epoch: {3}, batch number: {100}, d_error: {0.6586}, g_error: {1.9132}\n",
      "epoch: {3}, batch number: {200}, d_error: {0.8063}, g_error: {2.7386}\n",
      "epoch: {3}, batch number: {300}, d_error: {0.9762}, g_error: {1.2891}\n",
      "epoch: {3}, batch number: {400}, d_error: {0.7269}, g_error: {2.4879}\n",
      "epoch: {3}, batch number: {500}, d_error: {0.7262}, g_error: {1.4043}\n",
      "epoch: {3}, batch number: {600}, d_error: {0.7688}, g_error: {2.0218}\n",
      "epoch: {4}, batch number: {100}, d_error: {1.0505}, g_error: {1.0896}\n",
      "epoch: {4}, batch number: {200}, d_error: {0.9039}, g_error: {1.7426}\n",
      "epoch: {4}, batch number: {300}, d_error: {0.9060}, g_error: {1.3976}\n",
      "epoch: {4}, batch number: {400}, d_error: {0.9190}, g_error: {1.0152}\n",
      "epoch: {4}, batch number: {500}, d_error: {1.0945}, g_error: {1.3839}\n",
      "epoch: {4}, batch number: {600}, d_error: {0.9076}, g_error: {1.6639}\n",
      "epoch: {5}, batch number: {100}, d_error: {1.1669}, g_error: {2.6279}\n",
      "epoch: {5}, batch number: {200}, d_error: {0.9656}, g_error: {1.8769}\n",
      "epoch: {5}, batch number: {300}, d_error: {1.0103}, g_error: {2.0564}\n",
      "epoch: {5}, batch number: {400}, d_error: {0.9069}, g_error: {1.5233}\n",
      "epoch: {5}, batch number: {500}, d_error: {0.9380}, g_error: {1.0109}\n",
      "epoch: {5}, batch number: {600}, d_error: {0.9350}, g_error: {1.6888}\n",
      "epoch: {6}, batch number: {100}, d_error: {0.9165}, g_error: {1.3810}\n",
      "epoch: {6}, batch number: {200}, d_error: {0.9142}, g_error: {1.6912}\n",
      "epoch: {6}, batch number: {300}, d_error: {1.3195}, g_error: {1.4012}\n",
      "epoch: {6}, batch number: {400}, d_error: {1.0691}, g_error: {1.4209}\n",
      "epoch: {6}, batch number: {500}, d_error: {0.9877}, g_error: {1.0102}\n",
      "epoch: {6}, batch number: {600}, d_error: {0.9795}, g_error: {1.3090}\n",
      "epoch: {7}, batch number: {100}, d_error: {1.1119}, g_error: {1.8049}\n",
      "epoch: {7}, batch number: {200}, d_error: {1.0308}, g_error: {0.7895}\n",
      "epoch: {7}, batch number: {300}, d_error: {1.1360}, g_error: {1.3157}\n",
      "epoch: {7}, batch number: {400}, d_error: {1.0567}, g_error: {1.2438}\n",
      "epoch: {7}, batch number: {500}, d_error: {1.1347}, g_error: {1.4207}\n",
      "epoch: {7}, batch number: {600}, d_error: {1.0666}, g_error: {1.1963}\n",
      "epoch: {8}, batch number: {100}, d_error: {1.0823}, g_error: {1.2956}\n",
      "epoch: {8}, batch number: {200}, d_error: {0.9523}, g_error: {1.3154}\n",
      "epoch: {8}, batch number: {300}, d_error: {0.9925}, g_error: {1.0968}\n",
      "epoch: {8}, batch number: {400}, d_error: {1.0617}, g_error: {1.2861}\n",
      "epoch: {8}, batch number: {500}, d_error: {1.1890}, g_error: {1.2990}\n",
      "epoch: {8}, batch number: {600}, d_error: {1.1127}, g_error: {1.1100}\n",
      "epoch: {9}, batch number: {100}, d_error: {1.0128}, g_error: {1.2543}\n",
      "epoch: {9}, batch number: {200}, d_error: {1.2165}, g_error: {1.1984}\n",
      "epoch: {9}, batch number: {300}, d_error: {1.1273}, g_error: {1.2048}\n",
      "epoch: {9}, batch number: {400}, d_error: {1.1569}, g_error: {1.3525}\n",
      "epoch: {9}, batch number: {500}, d_error: {1.1276}, g_error: {1.2063}\n",
      "epoch: {9}, batch number: {600}, d_error: {1.1083}, g_error: {1.3024}\n",
      "epoch: {10}, batch number: {100}, d_error: {1.0572}, g_error: {1.1016}\n",
      "epoch: {10}, batch number: {200}, d_error: {1.1418}, g_error: {1.2517}\n",
      "epoch: {10}, batch number: {300}, d_error: {1.1300}, g_error: {1.1826}\n",
      "epoch: {10}, batch number: {400}, d_error: {1.0712}, g_error: {1.2857}\n",
      "epoch: {10}, batch number: {500}, d_error: {1.2122}, g_error: {1.0866}\n",
      "epoch: {10}, batch number: {600}, d_error: {1.1256}, g_error: {1.2991}\n",
      "epoch: {11}, batch number: {100}, d_error: {1.1540}, g_error: {1.1964}\n",
      "epoch: {11}, batch number: {200}, d_error: {1.0938}, g_error: {1.1944}\n",
      "epoch: {11}, batch number: {300}, d_error: {1.0794}, g_error: {0.9312}\n",
      "epoch: {11}, batch number: {400}, d_error: {1.1991}, g_error: {1.1328}\n",
      "epoch: {11}, batch number: {500}, d_error: {1.2501}, g_error: {1.1388}\n",
      "epoch: {11}, batch number: {600}, d_error: {1.2238}, g_error: {1.1186}\n",
      "epoch: {12}, batch number: {100}, d_error: {1.0481}, g_error: {1.1162}\n",
      "epoch: {12}, batch number: {200}, d_error: {1.1399}, g_error: {1.0624}\n",
      "epoch: {12}, batch number: {300}, d_error: {1.2447}, g_error: {0.9124}\n",
      "epoch: {12}, batch number: {400}, d_error: {1.1640}, g_error: {1.0437}\n",
      "epoch: {12}, batch number: {500}, d_error: {1.1221}, g_error: {1.0036}\n",
      "epoch: {12}, batch number: {600}, d_error: {1.1796}, g_error: {1.0854}\n",
      "epoch: {13}, batch number: {100}, d_error: {1.0842}, g_error: {0.9523}\n",
      "epoch: {13}, batch number: {200}, d_error: {1.2770}, g_error: {0.9675}\n",
      "epoch: {13}, batch number: {300}, d_error: {1.2233}, g_error: {1.2058}\n",
      "epoch: {13}, batch number: {400}, d_error: {1.2302}, g_error: {1.1136}\n",
      "epoch: {13}, batch number: {500}, d_error: {1.3159}, g_error: {1.0894}\n",
      "epoch: {13}, batch number: {600}, d_error: {1.1817}, g_error: {0.9646}\n",
      "epoch: {14}, batch number: {100}, d_error: {1.2549}, g_error: {1.0335}\n",
      "epoch: {14}, batch number: {200}, d_error: {1.2315}, g_error: {0.8539}\n",
      "epoch: {14}, batch number: {300}, d_error: {1.2970}, g_error: {0.9820}\n",
      "epoch: {14}, batch number: {400}, d_error: {1.3014}, g_error: {0.9830}\n",
      "epoch: {14}, batch number: {500}, d_error: {1.1638}, g_error: {0.9692}\n",
      "epoch: {14}, batch number: {600}, d_error: {1.2129}, g_error: {0.9896}\n",
      "epoch: {15}, batch number: {100}, d_error: {1.2323}, g_error: {1.0799}\n",
      "epoch: {15}, batch number: {200}, d_error: {1.1511}, g_error: {0.7154}\n",
      "epoch: {15}, batch number: {300}, d_error: {1.2558}, g_error: {1.0702}\n",
      "epoch: {15}, batch number: {400}, d_error: {1.2611}, g_error: {0.9453}\n",
      "epoch: {15}, batch number: {500}, d_error: {1.0971}, g_error: {1.0888}\n",
      "epoch: {15}, batch number: {600}, d_error: {1.2337}, g_error: {0.9319}\n",
      "epoch: {16}, batch number: {100}, d_error: {1.0943}, g_error: {0.9688}\n",
      "epoch: {16}, batch number: {200}, d_error: {1.2203}, g_error: {1.0372}\n",
      "epoch: {16}, batch number: {300}, d_error: {1.1891}, g_error: {1.1909}\n",
      "epoch: {16}, batch number: {400}, d_error: {1.2285}, g_error: {0.8909}\n",
      "epoch: {16}, batch number: {500}, d_error: {1.2467}, g_error: {1.0024}\n",
      "epoch: {16}, batch number: {600}, d_error: {1.2144}, g_error: {1.0480}\n",
      "epoch: {17}, batch number: {100}, d_error: {1.3213}, g_error: {0.9112}\n",
      "epoch: {17}, batch number: {200}, d_error: {1.1632}, g_error: {0.9464}\n",
      "epoch: {17}, batch number: {300}, d_error: {1.3413}, g_error: {0.8976}\n",
      "epoch: {17}, batch number: {400}, d_error: {1.1759}, g_error: {0.9391}\n",
      "epoch: {17}, batch number: {500}, d_error: {1.2531}, g_error: {1.1205}\n",
      "epoch: {17}, batch number: {600}, d_error: {1.1774}, g_error: {0.9462}\n",
      "epoch: {18}, batch number: {100}, d_error: {1.2400}, g_error: {0.9823}\n",
      "epoch: {18}, batch number: {200}, d_error: {1.2582}, g_error: {0.9146}\n",
      "epoch: {18}, batch number: {300}, d_error: {1.2388}, g_error: {0.9152}\n",
      "epoch: {18}, batch number: {400}, d_error: {1.1722}, g_error: {0.9590}\n",
      "epoch: {18}, batch number: {500}, d_error: {1.1985}, g_error: {0.9963}\n",
      "epoch: {18}, batch number: {600}, d_error: {1.3057}, g_error: {0.9965}\n",
      "epoch: {19}, batch number: {100}, d_error: {1.2283}, g_error: {0.9321}\n",
      "epoch: {19}, batch number: {200}, d_error: {1.2158}, g_error: {0.8188}\n",
      "epoch: {19}, batch number: {300}, d_error: {1.2679}, g_error: {0.9055}\n",
      "epoch: {19}, batch number: {400}, d_error: {1.2596}, g_error: {0.8548}\n",
      "epoch: {19}, batch number: {500}, d_error: {1.2127}, g_error: {0.8120}\n",
      "epoch: {19}, batch number: {600}, d_error: {1.2087}, g_error: {1.0425}\n",
      "epoch: {20}, batch number: {100}, d_error: {1.2900}, g_error: {0.9851}\n",
      "epoch: {20}, batch number: {200}, d_error: {1.2190}, g_error: {0.9265}\n",
      "epoch: {20}, batch number: {300}, d_error: {1.2232}, g_error: {0.8694}\n",
      "epoch: {20}, batch number: {400}, d_error: {1.3273}, g_error: {0.9429}\n",
      "epoch: {20}, batch number: {500}, d_error: {1.2491}, g_error: {0.7672}\n",
      "epoch: {20}, batch number: {600}, d_error: {1.3436}, g_error: {0.9544}\n",
      "epoch: {21}, batch number: {100}, d_error: {1.2898}, g_error: {0.8197}\n",
      "epoch: {21}, batch number: {200}, d_error: {1.2513}, g_error: {0.8153}\n",
      "epoch: {21}, batch number: {300}, d_error: {1.2568}, g_error: {0.9254}\n",
      "epoch: {21}, batch number: {400}, d_error: {1.1717}, g_error: {0.9423}\n",
      "epoch: {21}, batch number: {500}, d_error: {1.2945}, g_error: {0.9524}\n",
      "epoch: {21}, batch number: {600}, d_error: {1.2359}, g_error: {0.8458}\n",
      "epoch: {22}, batch number: {100}, d_error: {1.3660}, g_error: {0.8948}\n",
      "epoch: {22}, batch number: {200}, d_error: {1.1803}, g_error: {0.9162}\n",
      "epoch: {22}, batch number: {300}, d_error: {1.2657}, g_error: {0.8942}\n",
      "epoch: {22}, batch number: {400}, d_error: {1.3446}, g_error: {0.8288}\n",
      "epoch: {22}, batch number: {500}, d_error: {1.3098}, g_error: {0.9806}\n",
      "epoch: {22}, batch number: {600}, d_error: {1.2921}, g_error: {0.8355}\n",
      "epoch: {23}, batch number: {100}, d_error: {1.2189}, g_error: {0.8675}\n",
      "epoch: {23}, batch number: {200}, d_error: {1.2915}, g_error: {0.9380}\n",
      "epoch: {23}, batch number: {300}, d_error: {1.2784}, g_error: {0.8593}\n",
      "epoch: {23}, batch number: {400}, d_error: {1.3083}, g_error: {0.7935}\n",
      "epoch: {23}, batch number: {500}, d_error: {1.2199}, g_error: {0.8606}\n",
      "epoch: {23}, batch number: {600}, d_error: {1.3171}, g_error: {0.9000}\n",
      "epoch: {24}, batch number: {100}, d_error: {1.3146}, g_error: {0.9462}\n",
      "epoch: {24}, batch number: {200}, d_error: {1.2000}, g_error: {0.8743}\n",
      "epoch: {24}, batch number: {300}, d_error: {1.2813}, g_error: {0.9359}\n",
      "epoch: {24}, batch number: {400}, d_error: {1.3670}, g_error: {0.9518}\n",
      "epoch: {24}, batch number: {500}, d_error: {1.3477}, g_error: {0.8409}\n",
      "epoch: {24}, batch number: {600}, d_error: {1.2777}, g_error: {0.9253}\n",
      "epoch: {25}, batch number: {100}, d_error: {1.1615}, g_error: {0.8595}\n",
      "epoch: {25}, batch number: {200}, d_error: {1.2806}, g_error: {0.8613}\n",
      "epoch: {25}, batch number: {300}, d_error: {1.3368}, g_error: {0.8762}\n",
      "epoch: {25}, batch number: {400}, d_error: {1.2803}, g_error: {0.9283}\n",
      "epoch: {25}, batch number: {500}, d_error: {1.3890}, g_error: {1.0428}\n",
      "epoch: {25}, batch number: {600}, d_error: {1.2648}, g_error: {0.8290}\n",
      "epoch: {26}, batch number: {100}, d_error: {1.3275}, g_error: {0.7868}\n",
      "epoch: {26}, batch number: {200}, d_error: {1.2599}, g_error: {0.9614}\n",
      "epoch: {26}, batch number: {300}, d_error: {1.2262}, g_error: {0.8749}\n",
      "epoch: {26}, batch number: {400}, d_error: {1.3072}, g_error: {0.9510}\n",
      "epoch: {26}, batch number: {500}, d_error: {1.3936}, g_error: {0.9578}\n",
      "epoch: {26}, batch number: {600}, d_error: {1.2138}, g_error: {0.8476}\n",
      "epoch: {27}, batch number: {100}, d_error: {1.4269}, g_error: {0.9555}\n",
      "epoch: {27}, batch number: {200}, d_error: {1.1505}, g_error: {0.8959}\n",
      "epoch: {27}, batch number: {300}, d_error: {1.2202}, g_error: {0.8689}\n",
      "epoch: {27}, batch number: {400}, d_error: {1.2749}, g_error: {0.8569}\n",
      "epoch: {27}, batch number: {500}, d_error: {1.2648}, g_error: {0.8907}\n",
      "epoch: {27}, batch number: {600}, d_error: {1.2950}, g_error: {0.8777}\n",
      "epoch: {28}, batch number: {100}, d_error: {1.2845}, g_error: {0.8926}\n",
      "epoch: {28}, batch number: {200}, d_error: {1.2929}, g_error: {1.0169}\n",
      "epoch: {28}, batch number: {300}, d_error: {1.3094}, g_error: {0.8544}\n",
      "epoch: {28}, batch number: {400}, d_error: {1.2827}, g_error: {0.7904}\n",
      "epoch: {28}, batch number: {500}, d_error: {1.2185}, g_error: {0.8325}\n",
      "epoch: {28}, batch number: {600}, d_error: {1.2761}, g_error: {0.7890}\n",
      "epoch: {29}, batch number: {100}, d_error: {1.3046}, g_error: {0.8581}\n",
      "epoch: {29}, batch number: {200}, d_error: {1.2679}, g_error: {0.8332}\n",
      "epoch: {29}, batch number: {300}, d_error: {1.2770}, g_error: {0.7694}\n",
      "epoch: {29}, batch number: {400}, d_error: {1.2836}, g_error: {0.9694}\n",
      "epoch: {29}, batch number: {500}, d_error: {1.3198}, g_error: {0.9101}\n",
      "epoch: {29}, batch number: {600}, d_error: {1.2693}, g_error: {0.9123}\n",
      "epoch: {30}, batch number: {100}, d_error: {1.3360}, g_error: {0.9662}\n",
      "epoch: {30}, batch number: {200}, d_error: {1.3686}, g_error: {0.8290}\n",
      "epoch: {30}, batch number: {300}, d_error: {1.2569}, g_error: {0.9700}\n",
      "epoch: {30}, batch number: {400}, d_error: {1.2716}, g_error: {0.8468}\n",
      "epoch: {30}, batch number: {500}, d_error: {1.2526}, g_error: {0.8650}\n",
      "epoch: {30}, batch number: {600}, d_error: {1.1731}, g_error: {0.8721}\n",
      "LSGAN Training\n",
      "epoch: {1}, batch number: {100}, d_error: {0.0278}, g_error: {0.7694}\n",
      "epoch: {1}, batch number: {200}, d_error: {0.0313}, g_error: {0.8840}\n",
      "epoch: {1}, batch number: {300}, d_error: {0.6973}, g_error: {0.3324}\n",
      "epoch: {1}, batch number: {400}, d_error: {0.1230}, g_error: {0.7983}\n",
      "epoch: {1}, batch number: {500}, d_error: {0.4308}, g_error: {0.7901}\n",
      "epoch: {1}, batch number: {600}, d_error: {0.3716}, g_error: {0.6750}\n",
      "epoch: {2}, batch number: {100}, d_error: {0.1559}, g_error: {0.7861}\n",
      "epoch: {2}, batch number: {200}, d_error: {0.4126}, g_error: {0.7627}\n",
      "epoch: {2}, batch number: {300}, d_error: {0.3469}, g_error: {0.6311}\n",
      "epoch: {2}, batch number: {400}, d_error: {0.2763}, g_error: {0.7002}\n",
      "epoch: {2}, batch number: {500}, d_error: {0.4330}, g_error: {0.5994}\n",
      "epoch: {2}, batch number: {600}, d_error: {0.2555}, g_error: {0.4581}\n",
      "epoch: {3}, batch number: {100}, d_error: {0.3024}, g_error: {0.6417}\n",
      "epoch: {3}, batch number: {200}, d_error: {0.4227}, g_error: {0.6068}\n",
      "epoch: {3}, batch number: {300}, d_error: {0.3199}, g_error: {0.6051}\n",
      "epoch: {3}, batch number: {400}, d_error: {0.3103}, g_error: {0.7446}\n",
      "epoch: {3}, batch number: {500}, d_error: {0.3641}, g_error: {0.6626}\n",
      "epoch: {3}, batch number: {600}, d_error: {0.3363}, g_error: {0.5564}\n",
      "epoch: {4}, batch number: {100}, d_error: {0.2691}, g_error: {0.5378}\n",
      "epoch: {4}, batch number: {200}, d_error: {0.3382}, g_error: {0.5922}\n",
      "epoch: {4}, batch number: {300}, d_error: {0.3997}, g_error: {0.5208}\n",
      "epoch: {4}, batch number: {400}, d_error: {0.3941}, g_error: {0.5084}\n",
      "epoch: {4}, batch number: {500}, d_error: {0.3687}, g_error: {0.5495}\n",
      "epoch: {4}, batch number: {600}, d_error: {0.3597}, g_error: {0.4537}\n",
      "epoch: {5}, batch number: {100}, d_error: {0.3544}, g_error: {0.4935}\n",
      "epoch: {5}, batch number: {200}, d_error: {0.3983}, g_error: {0.3737}\n",
      "epoch: {5}, batch number: {300}, d_error: {0.3951}, g_error: {0.5895}\n",
      "epoch: {5}, batch number: {400}, d_error: {0.3625}, g_error: {0.6421}\n",
      "epoch: {5}, batch number: {500}, d_error: {0.4310}, g_error: {0.3719}\n",
      "epoch: {5}, batch number: {600}, d_error: {0.4569}, g_error: {0.5617}\n",
      "epoch: {6}, batch number: {100}, d_error: {0.3760}, g_error: {0.5587}\n",
      "epoch: {6}, batch number: {200}, d_error: {0.4087}, g_error: {0.3989}\n",
      "epoch: {6}, batch number: {300}, d_error: {0.3537}, g_error: {0.4357}\n",
      "epoch: {6}, batch number: {400}, d_error: {0.3801}, g_error: {0.4688}\n",
      "epoch: {6}, batch number: {500}, d_error: {0.3718}, g_error: {0.5607}\n",
      "epoch: {6}, batch number: {600}, d_error: {0.3888}, g_error: {0.4543}\n",
      "epoch: {7}, batch number: {100}, d_error: {0.4345}, g_error: {0.4171}\n",
      "epoch: {7}, batch number: {200}, d_error: {0.3541}, g_error: {0.5051}\n",
      "epoch: {7}, batch number: {300}, d_error: {0.4004}, g_error: {0.3898}\n",
      "epoch: {7}, batch number: {400}, d_error: {0.3930}, g_error: {0.4333}\n",
      "epoch: {7}, batch number: {500}, d_error: {0.3961}, g_error: {0.4658}\n",
      "epoch: {7}, batch number: {600}, d_error: {0.3786}, g_error: {0.4760}\n",
      "epoch: {8}, batch number: {100}, d_error: {0.4289}, g_error: {0.3836}\n",
      "epoch: {8}, batch number: {200}, d_error: {0.4437}, g_error: {0.4619}\n",
      "epoch: {8}, batch number: {300}, d_error: {0.4146}, g_error: {0.3513}\n",
      "epoch: {8}, batch number: {400}, d_error: {0.4116}, g_error: {0.3209}\n",
      "epoch: {8}, batch number: {500}, d_error: {0.4721}, g_error: {0.3893}\n",
      "epoch: {8}, batch number: {600}, d_error: {0.3977}, g_error: {0.3800}\n",
      "epoch: {9}, batch number: {100}, d_error: {0.3948}, g_error: {0.5204}\n",
      "epoch: {9}, batch number: {200}, d_error: {0.3869}, g_error: {0.4730}\n",
      "epoch: {9}, batch number: {300}, d_error: {0.3755}, g_error: {0.4960}\n",
      "epoch: {9}, batch number: {400}, d_error: {0.4147}, g_error: {0.3721}\n",
      "epoch: {9}, batch number: {500}, d_error: {0.4354}, g_error: {0.3941}\n",
      "epoch: {9}, batch number: {600}, d_error: {0.4547}, g_error: {0.3636}\n",
      "epoch: {10}, batch number: {100}, d_error: {0.4154}, g_error: {0.5235}\n",
      "epoch: {10}, batch number: {200}, d_error: {0.4334}, g_error: {0.4536}\n",
      "epoch: {10}, batch number: {300}, d_error: {0.3915}, g_error: {0.3352}\n",
      "epoch: {10}, batch number: {400}, d_error: {0.4316}, g_error: {0.4106}\n",
      "epoch: {10}, batch number: {500}, d_error: {0.4546}, g_error: {0.4489}\n",
      "epoch: {10}, batch number: {600}, d_error: {0.4065}, g_error: {0.4031}\n",
      "epoch: {11}, batch number: {100}, d_error: {0.4176}, g_error: {0.4302}\n",
      "epoch: {11}, batch number: {200}, d_error: {0.3993}, g_error: {0.4389}\n",
      "epoch: {11}, batch number: {300}, d_error: {0.4195}, g_error: {0.3468}\n",
      "epoch: {11}, batch number: {400}, d_error: {0.4440}, g_error: {0.4479}\n",
      "epoch: {11}, batch number: {500}, d_error: {0.4088}, g_error: {0.4273}\n",
      "epoch: {11}, batch number: {600}, d_error: {0.4219}, g_error: {0.3750}\n",
      "epoch: {12}, batch number: {100}, d_error: {0.4069}, g_error: {0.3991}\n",
      "epoch: {12}, batch number: {200}, d_error: {0.4503}, g_error: {0.3788}\n",
      "epoch: {12}, batch number: {300}, d_error: {0.4483}, g_error: {0.3450}\n",
      "epoch: {12}, batch number: {400}, d_error: {0.4173}, g_error: {0.3829}\n",
      "epoch: {12}, batch number: {500}, d_error: {0.4251}, g_error: {0.3731}\n",
      "epoch: {12}, batch number: {600}, d_error: {0.4299}, g_error: {0.4415}\n",
      "epoch: {13}, batch number: {100}, d_error: {0.4336}, g_error: {0.3837}\n",
      "epoch: {13}, batch number: {200}, d_error: {0.4697}, g_error: {0.3573}\n",
      "epoch: {13}, batch number: {300}, d_error: {0.4781}, g_error: {0.3440}\n",
      "epoch: {13}, batch number: {400}, d_error: {0.4103}, g_error: {0.3898}\n",
      "epoch: {13}, batch number: {500}, d_error: {0.4170}, g_error: {0.3576}\n",
      "epoch: {13}, batch number: {600}, d_error: {0.4367}, g_error: {0.4367}\n",
      "epoch: {14}, batch number: {100}, d_error: {0.4006}, g_error: {0.3559}\n",
      "epoch: {14}, batch number: {200}, d_error: {0.4166}, g_error: {0.4345}\n",
      "epoch: {14}, batch number: {300}, d_error: {0.4162}, g_error: {0.3682}\n",
      "epoch: {14}, batch number: {400}, d_error: {0.4338}, g_error: {0.3260}\n",
      "epoch: {14}, batch number: {500}, d_error: {0.4420}, g_error: {0.3230}\n",
      "epoch: {14}, batch number: {600}, d_error: {0.4395}, g_error: {0.3787}\n",
      "epoch: {15}, batch number: {100}, d_error: {0.4307}, g_error: {0.3741}\n",
      "epoch: {15}, batch number: {200}, d_error: {0.4378}, g_error: {0.3673}\n",
      "epoch: {15}, batch number: {300}, d_error: {0.4317}, g_error: {0.3728}\n",
      "epoch: {15}, batch number: {400}, d_error: {0.4375}, g_error: {0.3515}\n",
      "epoch: {15}, batch number: {500}, d_error: {0.4890}, g_error: {0.3722}\n",
      "epoch: {15}, batch number: {600}, d_error: {0.4212}, g_error: {0.4281}\n",
      "epoch: {16}, batch number: {100}, d_error: {0.4128}, g_error: {0.4266}\n",
      "epoch: {16}, batch number: {200}, d_error: {0.4261}, g_error: {0.3449}\n",
      "epoch: {16}, batch number: {300}, d_error: {0.4274}, g_error: {0.3171}\n",
      "epoch: {16}, batch number: {400}, d_error: {0.4804}, g_error: {0.3315}\n",
      "epoch: {16}, batch number: {500}, d_error: {0.4257}, g_error: {0.3117}\n",
      "epoch: {16}, batch number: {600}, d_error: {0.4530}, g_error: {0.3752}\n",
      "epoch: {17}, batch number: {100}, d_error: {0.4411}, g_error: {0.3860}\n",
      "epoch: {17}, batch number: {200}, d_error: {0.4227}, g_error: {0.3546}\n",
      "epoch: {17}, batch number: {300}, d_error: {0.4378}, g_error: {0.3491}\n",
      "epoch: {17}, batch number: {400}, d_error: {0.4310}, g_error: {0.3878}\n",
      "epoch: {17}, batch number: {500}, d_error: {0.4647}, g_error: {0.3358}\n",
      "epoch: {17}, batch number: {600}, d_error: {0.4169}, g_error: {0.3489}\n",
      "epoch: {18}, batch number: {100}, d_error: {0.4454}, g_error: {0.3710}\n",
      "epoch: {18}, batch number: {200}, d_error: {0.4880}, g_error: {0.3377}\n",
      "epoch: {18}, batch number: {300}, d_error: {0.4629}, g_error: {0.3838}\n",
      "epoch: {18}, batch number: {400}, d_error: {0.4743}, g_error: {0.3016}\n",
      "epoch: {18}, batch number: {500}, d_error: {0.4745}, g_error: {0.3498}\n",
      "epoch: {18}, batch number: {600}, d_error: {0.4314}, g_error: {0.3587}\n",
      "epoch: {19}, batch number: {100}, d_error: {0.4525}, g_error: {0.3480}\n",
      "epoch: {19}, batch number: {200}, d_error: {0.4112}, g_error: {0.3386}\n",
      "epoch: {19}, batch number: {300}, d_error: {0.4558}, g_error: {0.3291}\n",
      "epoch: {19}, batch number: {400}, d_error: {0.4651}, g_error: {0.3229}\n",
      "epoch: {19}, batch number: {500}, d_error: {0.4621}, g_error: {0.3543}\n",
      "epoch: {19}, batch number: {600}, d_error: {0.4294}, g_error: {0.3030}\n",
      "epoch: {20}, batch number: {100}, d_error: {0.4541}, g_error: {0.3555}\n",
      "epoch: {20}, batch number: {200}, d_error: {0.4284}, g_error: {0.3575}\n",
      "epoch: {20}, batch number: {300}, d_error: {0.4565}, g_error: {0.3686}\n",
      "epoch: {20}, batch number: {400}, d_error: {0.4603}, g_error: {0.3433}\n",
      "epoch: {20}, batch number: {500}, d_error: {0.4462}, g_error: {0.3673}\n",
      "epoch: {20}, batch number: {600}, d_error: {0.4807}, g_error: {0.3257}\n",
      "epoch: {21}, batch number: {100}, d_error: {0.4370}, g_error: {0.3552}\n",
      "epoch: {21}, batch number: {200}, d_error: {0.4490}, g_error: {0.3052}\n",
      "epoch: {21}, batch number: {300}, d_error: {0.4570}, g_error: {0.3459}\n",
      "epoch: {21}, batch number: {400}, d_error: {0.4708}, g_error: {0.3636}\n",
      "epoch: {21}, batch number: {500}, d_error: {0.4011}, g_error: {0.3282}\n",
      "epoch: {21}, batch number: {600}, d_error: {0.4377}, g_error: {0.3558}\n",
      "epoch: {22}, batch number: {100}, d_error: {0.4738}, g_error: {0.3344}\n",
      "epoch: {22}, batch number: {200}, d_error: {0.4625}, g_error: {0.3201}\n",
      "epoch: {22}, batch number: {300}, d_error: {0.4340}, g_error: {0.3286}\n",
      "epoch: {22}, batch number: {400}, d_error: {0.4859}, g_error: {0.2738}\n",
      "epoch: {22}, batch number: {500}, d_error: {0.4499}, g_error: {0.3324}\n",
      "epoch: {22}, batch number: {600}, d_error: {0.4684}, g_error: {0.3544}\n",
      "epoch: {23}, batch number: {100}, d_error: {0.4405}, g_error: {0.3243}\n",
      "epoch: {23}, batch number: {200}, d_error: {0.4312}, g_error: {0.3510}\n",
      "epoch: {23}, batch number: {300}, d_error: {0.4339}, g_error: {0.3363}\n",
      "epoch: {23}, batch number: {400}, d_error: {0.4499}, g_error: {0.3931}\n",
      "epoch: {23}, batch number: {500}, d_error: {0.4643}, g_error: {0.3192}\n",
      "epoch: {23}, batch number: {600}, d_error: {0.4561}, g_error: {0.3579}\n",
      "epoch: {24}, batch number: {100}, d_error: {0.4921}, g_error: {0.3122}\n",
      "epoch: {24}, batch number: {200}, d_error: {0.4473}, g_error: {0.3221}\n",
      "epoch: {24}, batch number: {300}, d_error: {0.4472}, g_error: {0.3508}\n",
      "epoch: {24}, batch number: {400}, d_error: {0.4604}, g_error: {0.3342}\n",
      "epoch: {24}, batch number: {500}, d_error: {0.4525}, g_error: {0.3233}\n",
      "epoch: {24}, batch number: {600}, d_error: {0.4830}, g_error: {0.3381}\n",
      "epoch: {25}, batch number: {100}, d_error: {0.4659}, g_error: {0.3087}\n",
      "epoch: {25}, batch number: {200}, d_error: {0.4739}, g_error: {0.2961}\n",
      "epoch: {25}, batch number: {300}, d_error: {0.4360}, g_error: {0.3474}\n",
      "epoch: {25}, batch number: {400}, d_error: {0.4258}, g_error: {0.3443}\n",
      "epoch: {25}, batch number: {500}, d_error: {0.4344}, g_error: {0.3126}\n",
      "epoch: {25}, batch number: {600}, d_error: {0.4524}, g_error: {0.2934}\n",
      "epoch: {26}, batch number: {100}, d_error: {0.4704}, g_error: {0.3508}\n",
      "epoch: {26}, batch number: {200}, d_error: {0.4470}, g_error: {0.3632}\n",
      "epoch: {26}, batch number: {300}, d_error: {0.4387}, g_error: {0.3462}\n",
      "epoch: {26}, batch number: {400}, d_error: {0.4608}, g_error: {0.3140}\n",
      "epoch: {26}, batch number: {500}, d_error: {0.4630}, g_error: {0.3379}\n",
      "epoch: {26}, batch number: {600}, d_error: {0.4442}, g_error: {0.3312}\n",
      "epoch: {27}, batch number: {100}, d_error: {0.4472}, g_error: {0.3115}\n",
      "epoch: {27}, batch number: {200}, d_error: {0.4444}, g_error: {0.3211}\n",
      "epoch: {27}, batch number: {300}, d_error: {0.4787}, g_error: {0.3179}\n",
      "epoch: {27}, batch number: {400}, d_error: {0.4758}, g_error: {0.3201}\n",
      "epoch: {27}, batch number: {500}, d_error: {0.4460}, g_error: {0.3286}\n",
      "epoch: {27}, batch number: {600}, d_error: {0.4330}, g_error: {0.3405}\n",
      "epoch: {28}, batch number: {100}, d_error: {0.4930}, g_error: {0.3174}\n",
      "epoch: {28}, batch number: {200}, d_error: {0.4870}, g_error: {0.3014}\n",
      "epoch: {28}, batch number: {300}, d_error: {0.4857}, g_error: {0.2985}\n",
      "epoch: {28}, batch number: {400}, d_error: {0.4551}, g_error: {0.3257}\n",
      "epoch: {28}, batch number: {500}, d_error: {0.4736}, g_error: {0.2961}\n",
      "epoch: {28}, batch number: {600}, d_error: {0.4467}, g_error: {0.3261}\n",
      "epoch: {29}, batch number: {100}, d_error: {0.4331}, g_error: {0.3622}\n",
      "epoch: {29}, batch number: {200}, d_error: {0.4343}, g_error: {0.3561}\n",
      "epoch: {29}, batch number: {300}, d_error: {0.5035}, g_error: {0.3595}\n",
      "epoch: {29}, batch number: {400}, d_error: {0.4884}, g_error: {0.3799}\n",
      "epoch: {29}, batch number: {500}, d_error: {0.4506}, g_error: {0.3187}\n",
      "epoch: {29}, batch number: {600}, d_error: {0.4359}, g_error: {0.3639}\n",
      "epoch: {30}, batch number: {100}, d_error: {0.4585}, g_error: {0.3401}\n",
      "epoch: {30}, batch number: {200}, d_error: {0.4520}, g_error: {0.3542}\n",
      "epoch: {30}, batch number: {300}, d_error: {0.4585}, g_error: {0.3427}\n",
      "epoch: {30}, batch number: {400}, d_error: {0.4728}, g_error: {0.3473}\n",
      "epoch: {30}, batch number: {500}, d_error: {0.4485}, g_error: {0.3085}\n",
      "epoch: {30}, batch number: {600}, d_error: {0.4594}, g_error: {0.3457}\n"
     ]
    }
   ],
   "source": [
    "print(\"VanillaGAN Training\")\n",
    "d_vanilla, g_vanilla, img_vanilla = train('VanillaGAN')\n",
    "\n",
    "print(\"LSGAN Training\")\n",
    "d_lsgan, g_lsgan, img_lsgan = train('LSGAN')"
   ]
  },
  {
   "cell_type": "markdown",
   "metadata": {
    "colab_type": "text",
    "id": "CbXjt3XYLBLc"
   },
   "source": [
    "## Training loss curves and test results (generated images) for both vanillaGAN and LSGAN."
   ]
  },
  {
   "cell_type": "code",
   "execution_count": 15,
   "metadata": {
    "colab": {
     "base_uri": "https://localhost:8080/",
     "height": 735
    },
    "colab_type": "code",
    "executionInfo": {
     "elapsed": 1307,
     "status": "ok",
     "timestamp": 1544395224663,
     "user": {
      "displayName": "Nurefşan Sarıkaya",
      "photoUrl": "",
      "userId": "03242574637594305097"
     },
     "user_tz": -180
    },
    "id": "AYRI8CrILBLg",
    "outputId": "7ef407c0-5352-4ab7-f881-1c48cc94056c"
   },
   "outputs": [
    {
     "data": {
      "image/png": "[encoded data removed]",
      "text/plain": [
       "<matplotlib.figure.Figure at 0x7eff165e4908>"
      ]
     },
     "metadata": {
      "tags": []
     },
     "output_type": "display_data"
    },
    {
     "data": {
      "image/png": "[encoded data removed]",
      "text/plain": [
       "<matplotlib.figure.Figure at 0x7eff1550dbe0>"
      ]
     },
     "metadata": {
      "tags": []
     },
     "output_type": "display_data"
    }
   ],
   "source": [
    "# Plot Generator Loss\n",
    "\n",
    "# vanillaGAN\n",
    "plt.plot(g_vanilla, 'r')\n",
    "plt.title('vanillaGAN Generator Loss')\n",
    "plt.ylabel('Loss')\n",
    "plt.xlabel('Epoch')\n",
    "plt.show()\n",
    "\n",
    "# LSGAN\n",
    "plt.plot(g_lsgan, 'r')\n",
    "plt.title('LSGAN Generator Loss')\n",
    "plt.ylabel('Loss')\n",
    "plt.xlabel('Epoch')\n",
    "plt.show()"
   ]
  },
  {
   "cell_type": "code",
   "execution_count": 16,
   "metadata": {
    "colab": {
     "base_uri": "https://localhost:8080/",
     "height": 735
    },
    "colab_type": "code",
    "executionInfo": {
     "elapsed": 1481,
     "status": "ok",
     "timestamp": 1544395243920,
     "user": {
      "displayName": "Nurefşan Sarıkaya",
      "photoUrl": "",
      "userId": "03242574637594305097"
     },
     "user_tz": -180
    },
    "id": "3snt_pbkLBLw",
    "outputId": "20bc8323-01f2-4a09-9f32-53304c8ff8b3"
   },
   "outputs": [
    {
     "data": {
      "image/png": "[encoded data removed]",
      "text/plain": [
       "<matplotlib.figure.Figure at 0x7eff1548b240>"
      ]
     },
     "metadata": {
      "tags": []
     },
     "output_type": "display_data"
    },
    {
     "data": {
      "image/png": "[encoded data removed]",
      "text/plain": [
       "<matplotlib.figure.Figure at 0x7eff49e18f98>"
      ]
     },
     "metadata": {
      "tags": []
     },
     "output_type": "display_data"
    }
   ],
   "source": [
    "# Plot Discriminator Loss\n",
    "\n",
    "# vanillaGAN\n",
    "plt.plot(d_vanilla, 'r')\n",
    "plt.title('vanillaGAN Discriminator Loss')\n",
    "plt.ylabel('Loss')\n",
    "plt.xlabel('Epoch')\n",
    "plt.show()\n",
    "\n",
    "# LSGAN\n",
    "plt.plot(d_lsgan, 'r')\n",
    "plt.title('LSGAN Discriminator Loss')\n",
    "plt.ylabel('Loss')\n",
    "plt.xlabel('Epoch')\n",
    "plt.show()"
   ]
  },
  {
   "cell_type": "code",
   "execution_count": 17,
   "metadata": {
    "colab": {
     "base_uri": "https://localhost:8080/",
     "height": 4607,
     "output_embedded_package_id": "1M236VtMRixAgdwN6YivDESb9OundkayA"
    },
    "colab_type": "code",
    "executionInfo": {
     "elapsed": 10569,
     "status": "ok",
     "timestamp": 1544395318537,
     "user": {
      "displayName": "Nurefşan Sarıkaya",
      "photoUrl": "",
      "userId": "03242574637594305097"
     },
     "user_tz": -180
    },
    "id": "iZoP9qmPLBL6",
    "outputId": "a3e36c25-0248-4bd0-944a-ef45d8618edc"
   },
   "outputs": [
    {
     "data": {
      "text/plain": [
       "Output hidden; open in https://colab.research.google.com to view."
      ]
     },
     "metadata": {},
     "output_type": "display_data"
    }
   ],
   "source": [
    "'''\n",
    "As a result\n",
    "LSGAN seems to overcome the vanishing gradients problem during the learning process for the discriminator. \n",
    "LSGAN minimaze the divergence over Vanilla Gan and also LSGAN generates higher quality images than Vanilla Gan.\n",
    "Also LSGAN performs more stable during the learning process.\n",
    "'''\n",
    "\n",
    "for i,_ in enumerate(img_vanilla):\n",
    "  plt.figure(figsize=(16,16))\n",
    "  plt.subplot(1,2,1)\n",
    "  plt.axis(\"off\")\n",
    "  plt.title(\"vanillaGAN (Generated) Epoch: %d\" % (i + 1))\n",
    "  plt.imshow(np.transpose(vutils.make_grid(img_vanilla[i], padding=5, normalize=True),(1,2,0)))\n",
    "\n",
    "  plt.subplot(1,2,2)\n",
    "  plt.axis(\"off\")\n",
    "  plt.title(\"LSGAN (Generated) Epoch: %d\" % (i + 1))\n",
    "  plt.imshow(np.transpose(vutils.make_grid(img_lsgan[i], padding=5, normalize=True),(1,2,0)))\n",
    "  plt.show()"
   ]
  }
 ],
 "metadata": {
  "accelerator": "GPU",
  "colab": {
   "collapsed_sections": [],
   "name": "GenerativeAdversarialNetworksGANs.ipynb",
   "provenance": [],
   "version": "0.3.2"
  },
  "kernelspec": {
   "display_name": "Python 3",
   "language": "python",
   "name": "python3"
  }
 },
 "nbformat": 4,
 "nbformat_minor": 1
}
